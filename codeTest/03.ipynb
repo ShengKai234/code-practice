{
 "cells": [
  {
   "cell_type": "code",
   "execution_count": 14,
   "metadata": {},
   "outputs": [],
   "source": [
    "A = [8,24,3,20,1,17]\n",
    "B = [7,21,3,42,3,7]\n",
    "C = [111100,1,200000,39,2,34,10000000]\n",
    "def solution(A):\n",
    "    lenth = len(A)\n",
    "    result = list()\n",
    "    for i in range (0,lenth):\n",
    "        for j in range (i + 1, lenth):\n",
    "            result.append(abs(A[i] - A[j]))\n",
    "    print min(result)"
   ]
  },
  {
   "cell_type": "code",
   "execution_count": 15,
   "metadata": {},
   "outputs": [
    {
     "name": "stdout",
     "output_type": "stream",
     "text": [
      "0\n"
     ]
    }
   ],
   "source": [
    "solution(B)"
   ]
  },
  {
   "cell_type": "code",
   "execution_count": 12,
   "metadata": {},
   "outputs": [],
   "source": [
    "def solution2(A):\n",
    "    lenth = len(A)\n",
    "    A.sort(reverse=True)\n",
    "    print A\n",
    "    result = 1000000\n",
    "    for i in range (0,lenth-1):\n",
    "        result = min (result, A[i] - A[i+1])\n",
    "    print result"
   ]
  },
  {
   "cell_type": "code",
   "execution_count": 13,
   "metadata": {},
   "outputs": [
    {
     "name": "stdout",
     "output_type": "stream",
     "text": [
      "[42, 21, 7, 7, 3, 3]\n",
      "0\n"
     ]
    }
   ],
   "source": [
    "solution2(B)"
   ]
  },
  {
   "cell_type": "code",
   "execution_count": 5,
   "metadata": {},
   "outputs": [],
   "source": []
  },
  {
   "cell_type": "code",
   "execution_count": 7,
   "metadata": {},
   "outputs": [
    {
     "name": "stdout",
     "output_type": "stream",
     "text": [
      "1\n"
     ]
    }
   ],
   "source": []
  },
  {
   "cell_type": "code",
   "execution_count": null,
   "metadata": {},
   "outputs": [],
   "source": []
  }
 ],
 "metadata": {
  "kernelspec": {
   "display_name": "Python 2",
   "language": "python",
   "name": "python2"
  },
  "language_info": {
   "codemirror_mode": {
    "name": "ipython",
    "version": 2
   },
   "file_extension": ".py",
   "mimetype": "text/x-python",
   "name": "python",
   "nbconvert_exporter": "python",
   "pygments_lexer": "ipython2",
   "version": "2.7.15"
  }
 },
 "nbformat": 4,
 "nbformat_minor": 2
}
