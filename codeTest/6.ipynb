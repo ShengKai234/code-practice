{
 "cells": [
  {
   "cell_type": "code",
   "execution_count": null,
   "metadata": {},
   "outputs": [],
   "source": [
    "\n"
   ]
  },
  {
   "cell_type": "code",
   "execution_count": 14,
   "metadata": {},
   "outputs": [
    {
     "name": "stdout",
     "output_type": "stream",
     "text": [
      "('0',)\n",
      "set(['1'])\n",
      "1\n"
     ]
    }
   ],
   "source": [
    "from itertools import permutations\n",
    "number = 0\n",
    "st = str(number)\n",
    "result = []\n",
    "list123 = list()\n",
    "for i in range (0, len(st)):\n",
    "    list123.append(st[i])\n",
    "for num in permutations(st, len(st)):\n",
    "    final_num = ''\n",
    "    print num\n",
    "    for loop in range(0, len(st)):\n",
    "        if (num[0] is '0'):\n",
    "            break\n",
    "        final_num = final_num + str(num[loop])\n",
    "        #print final_num\n",
    "    if (final_num):\n",
    "        result.append(int(final_num))\n",
    "if (len(st) == 1):\n",
    "    result = str(1)\n",
    "res = set(result)\n",
    "print(res)\n",
    "print(len(res))"
   ]
  },
  {
   "cell_type": "code",
   "execution_count": 6,
   "metadata": {},
   "outputs": [],
   "source": [
    "import itertools\n",
    "def solution2(N):\n",
    "    s = list(str(N))\n",
    "    solution  = set([ s for s in itertools.permutations(s)]\n",
    "    print solution\n",
    "    if len(solution) == 1:\n",
    "        print(\"1\")\n",
    "        return\n",
    "    final_solution = [ s for s in solution if s[0] !='0' ]\n",
    "    print(len(final_solution))"
   ]
  },
  {
   "cell_type": "code",
   "execution_count": 7,
   "metadata": {},
   "outputs": [
    {
     "name": "stdout",
     "output_type": "stream",
     "text": [
      "set([('0',)])\n",
      "1\n"
     ]
    }
   ],
   "source": [
    "solution2(0)"
   ]
  },
  {
   "cell_type": "code",
   "execution_count": null,
   "metadata": {},
   "outputs": [],
   "source": []
  },
  {
   "cell_type": "code",
   "execution_count": null,
   "metadata": {},
   "outputs": [],
   "source": []
  }
 ],
 "metadata": {
  "kernelspec": {
   "display_name": "Python 2",
   "language": "python",
   "name": "python2"
  },
  "language_info": {
   "codemirror_mode": {
    "name": "ipython",
    "version": 2
   },
   "file_extension": ".py",
   "mimetype": "text/x-python",
   "name": "python",
   "nbconvert_exporter": "python",
   "pygments_lexer": "ipython2",
   "version": "2.7.15"
  }
 },
 "nbformat": 4,
 "nbformat_minor": 2
}
