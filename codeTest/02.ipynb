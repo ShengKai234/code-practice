{
 "cells": [
  {
   "cell_type": "code",
   "execution_count": 19,
   "metadata": {},
   "outputs": [],
   "source": [
    "A = [4,6,2,2,6,6,1]\n",
    "def solution(A):\n",
    "    lenth = len(A)\n",
    "    s = set(A)\n",
    "    result = len(A)\n",
    "    if len(s) <= 1:\n",
    "        result = len(A)-1\n",
    "    if len(A)==1:\n",
    "        result = 1\n",
    "    print result\n",
    "    #for i in range (0,lenth):\n",
    "        "
   ]
  },
  {
   "cell_type": "code",
   "execution_count": 20,
   "metadata": {},
   "outputs": [
    {
     "name": "stdout",
     "output_type": "stream",
     "text": [
      "7\n"
     ]
    }
   ],
   "source": [
    "solution(A)"
   ]
  },
  {
   "cell_type": "code",
   "execution_count": 6,
   "metadata": {},
   "outputs": [
    {
     "name": "stdout",
     "output_type": "stream",
     "text": [
      "3 2\n"
     ]
    }
   ],
   "source": [
    "\n",
    "# #!/usr/bin/python\n",
    "# hashindex = {}\n",
    "\n",
    "# l = [2,2,2,2,6]\n",
    "\n",
    "# max_diff = 0\n",
    "# value = 0\n",
    "\n",
    "# for i in range(len(l)):\n",
    "#     indices = hashindex.get(l[i], None)\n",
    "#     if indices:\n",
    "#         hashindex[l[i]] = (indices[0], i)\n",
    "#     else:\n",
    "#         hashindex[l[i]] = (i, i)\n",
    "#     diff = hashindex[l[i]][1] - hashindex[l[i]][0]\n",
    "#     if diff > max_diff:\n",
    "#         max_diff = diff\n",
    "#         value = l[i]\n",
    "\n",
    "# print max_diff, value"
   ]
  },
  {
   "cell_type": "code",
   "execution_count": null,
   "metadata": {},
   "outputs": [],
   "source": []
  }
 ],
 "metadata": {
  "kernelspec": {
   "display_name": "Python 2",
   "language": "python",
   "name": "python2"
  },
  "language_info": {
   "codemirror_mode": {
    "name": "ipython",
    "version": 2
   },
   "file_extension": ".py",
   "mimetype": "text/x-python",
   "name": "python",
   "nbconvert_exporter": "python",
   "pygments_lexer": "ipython2",
   "version": "2.7.15"
  }
 },
 "nbformat": 4,
 "nbformat_minor": 2
}
